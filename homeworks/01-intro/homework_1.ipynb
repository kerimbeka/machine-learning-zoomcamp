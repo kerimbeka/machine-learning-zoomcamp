{
  "cells": [
    {
      "cell_type": "markdown",
      "id": "51c5cef6",
      "metadata": {
        "id": "51c5cef6"
      },
      "source": [
        "## Homework #1 "
      ]
    },
    {
      "cell_type": "code",
      "execution_count": 1,
      "id": "41eae4aa",
      "metadata": {
        "id": "41eae4aa"
      },
      "outputs": [],
      "source": [
        "import numpy as np\n",
        "import pandas as pd"
      ]
    },
    {
      "cell_type": "markdown",
      "id": "04514a64",
      "metadata": {
        "id": "04514a64"
      },
      "source": [
        "### Question 1"
      ]
    },
    {
      "cell_type": "code",
      "execution_count": 2,
      "id": "be3ac3dd",
      "metadata": {
        "colab": {
          "base_uri": "https://localhost:8080/",
          "height": 36
        },
        "id": "be3ac3dd",
        "outputId": "b08ceaff-8060-4640-be48-435656007e7c"
      },
      "outputs": [
        {
          "data": {
            "text/plain": [
              "'1.4.2'"
            ]
          },
          "execution_count": 2,
          "metadata": {},
          "output_type": "execute_result"
        }
      ],
      "source": [
        "pd.__version__"
      ]
    },
    {
      "cell_type": "markdown",
      "id": "adce9d0b",
      "metadata": {
        "id": "adce9d0b"
      },
      "source": [
        "### Getting the data"
      ]
    },
    {
      "cell_type": "code",
      "execution_count": 4,
      "id": "4e9364c6",
      "metadata": {
        "id": "4e9364c6"
      },
      "outputs": [],
      "source": [
        "data = pd.read_csv(\"https://raw.githubusercontent.com/alexeygrigorev/datasets/master/housing.csv\")"
      ]
    },
    {
      "cell_type": "markdown",
      "id": "3787858f",
      "metadata": {
        "id": "3787858f"
      },
      "source": [
        "### Question 2"
      ]
    },
    {
      "cell_type": "code",
      "execution_count": 5,
      "id": "53c3bb22",
      "metadata": {
        "colab": {
          "base_uri": "https://localhost:8080/"
        },
        "id": "53c3bb22",
        "outputId": "f312d0d8-911f-413d-896e-fcc89a59c9ca"
      },
      "outputs": [
        {
          "data": {
            "text/plain": [
              "10"
            ]
          },
          "execution_count": 5,
          "metadata": {},
          "output_type": "execute_result"
        }
      ],
      "source": [
        "len(data.columns)   "
      ]
    },
    {
      "cell_type": "markdown",
      "id": "c5c5a015",
      "metadata": {
        "id": "c5c5a015"
      },
      "source": [
        "### Question 3"
      ]
    },
    {
      "cell_type": "code",
      "execution_count": 6,
      "id": "u3aaRkGy7QiD",
      "metadata": {
        "colab": {
          "base_uri": "https://localhost:8080/"
        },
        "id": "u3aaRkGy7QiD",
        "outputId": "bacee4d9-ae98-4470-a18b-d15814720125"
      },
      "outputs": [
        {
          "data": {
            "text/plain": [
              "longitude             False\n",
              "latitude              False\n",
              "housing_median_age    False\n",
              "total_rooms           False\n",
              "total_bedrooms         True\n",
              "population            False\n",
              "households            False\n",
              "median_income         False\n",
              "median_house_value    False\n",
              "ocean_proximity       False\n",
              "dtype: bool"
            ]
          },
          "execution_count": 6,
          "metadata": {},
          "output_type": "execute_result"
        }
      ],
      "source": [
        "data.isnull().sum() > 0"
      ]
    },
    {
      "cell_type": "markdown",
      "id": "Gs-F0NGmT1rY",
      "metadata": {
        "id": "Gs-F0NGmT1rY"
      },
      "source": [
        "### Question 4"
      ]
    },
    {
      "cell_type": "code",
      "execution_count": 7,
      "id": "PqW9C9MK2oL_",
      "metadata": {
        "colab": {
          "base_uri": "https://localhost:8080/"
        },
        "id": "PqW9C9MK2oL_",
        "outputId": "3db57d44-b861-4ce5-85b3-3fbb2412f727"
      },
      "outputs": [
        {
          "data": {
            "text/plain": [
              "5"
            ]
          },
          "execution_count": 7,
          "metadata": {},
          "output_type": "execute_result"
        }
      ],
      "source": [
        "data['ocean_proximity'].nunique()"
      ]
    },
    {
      "cell_type": "markdown",
      "id": "1ede2dba",
      "metadata": {
        "id": "1ede2dba"
      },
      "source": [
        "### Question 5"
      ]
    },
    {
      "cell_type": "code",
      "execution_count": 8,
      "id": "IQ8dlAmw4ynp",
      "metadata": {
        "colab": {
          "base_uri": "https://localhost:8080/"
        },
        "id": "IQ8dlAmw4ynp",
        "outputId": "48b92886-fe77-48c9-d451-9d6838011894"
      },
      "outputs": [
        {
          "data": {
            "text/plain": [
              "259212.31179039303"
            ]
          },
          "execution_count": 8,
          "metadata": {},
          "output_type": "execute_result"
        }
      ],
      "source": [
        "data[data['ocean_proximity'] == 'NEAR BAY']['median_house_value'].mean()"
      ]
    },
    {
      "cell_type": "markdown",
      "id": "b8d3c661",
      "metadata": {
        "id": "b8d3c661"
      },
      "source": [
        "### Question 6"
      ]
    },
    {
      "cell_type": "code",
      "execution_count": 9,
      "id": "82besVeW3IKa",
      "metadata": {
        "colab": {
          "base_uri": "https://localhost:8080/"
        },
        "id": "82besVeW3IKa",
        "outputId": "17d636da-d9d4-4fe5-ce7a-3db52e739486"
      },
      "outputs": [
        {
          "data": {
            "text/plain": [
              "537.8705525375618"
            ]
          },
          "execution_count": 9,
          "metadata": {},
          "output_type": "execute_result"
        }
      ],
      "source": [
        "bedrooms_average = data['total_bedrooms'].mean()\n",
        "bedrooms_average"
      ]
    },
    {
      "cell_type": "code",
      "execution_count": 10,
      "id": "QG0ooQpm31z2",
      "metadata": {
        "colab": {
          "base_uri": "https://localhost:8080/"
        },
        "id": "QG0ooQpm31z2",
        "outputId": "ee0ab339-7d81-47ab-bdc0-d61a01639779"
      },
      "outputs": [
        {
          "data": {
            "text/plain": [
              "537.8705525375639"
            ]
          },
          "execution_count": 10,
          "metadata": {},
          "output_type": "execute_result"
        }
      ],
      "source": [
        "data['total_bedrooms'].fillna(bedrooms_average).mean()"
      ]
    },
    {
      "cell_type": "markdown",
      "id": "1214682d",
      "metadata": {
        "id": "1214682d"
      },
      "source": [
        "### Question 7"
      ]
    },
    {
      "cell_type": "code",
      "execution_count": 21,
      "id": "de53daf0",
      "metadata": {},
      "outputs": [],
      "source": [
        "X = data[data['ocean_proximity'] == 'ISLAND'][['housing_median_age', 'total_rooms', 'total_bedrooms']].values"
      ]
    },
    {
      "cell_type": "code",
      "execution_count": 23,
      "id": "gOKb01VxqqL0",
      "metadata": {
        "colab": {
          "base_uri": "https://localhost:8080/"
        },
        "id": "gOKb01VxqqL0",
        "outputId": "3ea94af3-2927-42ba-fd73-ead0daaed7d7"
      },
      "outputs": [
        {
          "data": {
            "text/plain": [
              "array([[ 9.19403586e-04, -3.66412216e-05,  5.43072261e-05],\n",
              "       [-3.66412216e-05,  8.23303633e-06, -2.77534485e-05],\n",
              "       [ 5.43072261e-05, -2.77534485e-05,  1.00891325e-04]])"
            ]
          },
          "execution_count": 23,
          "metadata": {},
          "output_type": "execute_result"
        }
      ],
      "source": [
        "XTX = X.T @ X\n",
        "XTX_inv = np.linalg.inv(XTX)\n",
        "XTX_inv"
      ]
    },
    {
      "cell_type": "code",
      "execution_count": 24,
      "id": "e0a2e43c",
      "metadata": {
        "id": "e0a2e43c"
      },
      "outputs": [],
      "source": [
        "y = np.array([950, 1300, 800, 1000, 1300])"
      ]
    },
    {
      "cell_type": "code",
      "execution_count": 25,
      "id": "2449151d",
      "metadata": {
        "id": "2449151d"
      },
      "outputs": [],
      "source": [
        "w = (XTX_inv @ X.T) @ y"
      ]
    },
    {
      "cell_type": "code",
      "execution_count": 26,
      "id": "c5e7fc75",
      "metadata": {
        "colab": {
          "base_uri": "https://localhost:8080/"
        },
        "id": "c5e7fc75",
        "outputId": "ccb80238-ae8c-4210-d3f4-cba73ba65af8"
      },
      "outputs": [
        {
          "data": {
            "text/plain": [
              "5.6992294550655656"
            ]
          },
          "execution_count": 26,
          "metadata": {},
          "output_type": "execute_result"
        }
      ],
      "source": [
        "w[-1]"
      ]
    }
  ],
  "metadata": {
    "colab": {
      "collapsed_sections": [],
      "provenance": []
    },
    "kernelspec": {
      "display_name": "Python 3 (ipykernel)",
      "language": "python",
      "name": "python3"
    },
    "language_info": {
      "codemirror_mode": {
        "name": "ipython",
        "version": 3
      },
      "file_extension": ".py",
      "mimetype": "text/x-python",
      "name": "python",
      "nbconvert_exporter": "python",
      "pygments_lexer": "ipython3",
      "version": "3.9.12"
    }
  },
  "nbformat": 4,
  "nbformat_minor": 5
}
