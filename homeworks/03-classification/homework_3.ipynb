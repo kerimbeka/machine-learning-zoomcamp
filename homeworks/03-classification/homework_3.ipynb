{
  "cells": [
    {
      "cell_type": "code",
      "execution_count": 1,
      "metadata": {
        "id": "9UkFwRCfs0oo"
      },
      "outputs": [],
      "source": [
        "import numpy as np\n",
        "import pandas as pd\n",
        "import seaborn as sns\n",
        "import matplotlib.pyplot as plt\n",
        "from sklearn.linear_model import Ridge\n",
        "from sklearn.metrics import mean_squared_error\n",
        "from sklearn.linear_model import LogisticRegression\n",
        "from sklearn.metrics import accuracy_score\n",
        "from sklearn.metrics import mutual_info_score\n",
        "from sklearn.feature_extraction import DictVectorizer\n",
        "from sklearn.model_selection import train_test_split"
      ]
    },
    {
      "cell_type": "code",
      "execution_count": 2,
      "metadata": {
        "id": "qZ3ySstmvWhk"
      },
      "outputs": [],
      "source": [
        "# importing data\n",
        "data = pd.read_csv('https://raw.githubusercontent.com/alexeygrigorev/mlbookcamp-code/master/chapter-02-car-price/data.csv')"
      ]
    },
    {
      "cell_type": "code",
      "execution_count": 3,
      "metadata": {
        "colab": {
          "base_uri": "https://localhost:8080/"
        },
        "id": "jQ_W08Z5xcdr",
        "outputId": "b9e0a6a2-5d4a-4d5a-e964-76b4037d74ae"
      },
      "outputs": [
        {
          "name": "stdout",
          "output_type": "stream",
          "text": [
            "(11914, 16)\n"
          ]
        }
      ],
      "source": [
        "print(data.shape)"
      ]
    },
    {
      "cell_type": "code",
      "execution_count": 5,
      "metadata": {
        "colab": {
          "base_uri": "https://localhost:8080/",
          "height": 363
        },
        "id": "CCXyC6J-xixG",
        "outputId": "57c73237-4bf8-4bc4-b3fc-de15667f6694"
      },
      "outputs": [
        {
          "data": {
            "text/html": [
              "<div>\n",
              "<style scoped>\n",
              "    .dataframe tbody tr th:only-of-type {\n",
              "        vertical-align: middle;\n",
              "    }\n",
              "\n",
              "    .dataframe tbody tr th {\n",
              "        vertical-align: top;\n",
              "    }\n",
              "\n",
              "    .dataframe thead th {\n",
              "        text-align: right;\n",
              "    }\n",
              "</style>\n",
              "<table border=\"1\" class=\"dataframe\">\n",
              "  <thead>\n",
              "    <tr style=\"text-align: right;\">\n",
              "      <th></th>\n",
              "      <th>Make</th>\n",
              "      <th>Model</th>\n",
              "      <th>Year</th>\n",
              "      <th>Engine Fuel Type</th>\n",
              "      <th>Engine HP</th>\n",
              "      <th>Engine Cylinders</th>\n",
              "      <th>Transmission Type</th>\n",
              "      <th>Driven_Wheels</th>\n",
              "      <th>Number of Doors</th>\n",
              "      <th>Market Category</th>\n",
              "      <th>Vehicle Size</th>\n",
              "      <th>Vehicle Style</th>\n",
              "      <th>highway MPG</th>\n",
              "      <th>city mpg</th>\n",
              "      <th>Popularity</th>\n",
              "      <th>MSRP</th>\n",
              "    </tr>\n",
              "  </thead>\n",
              "  <tbody>\n",
              "    <tr>\n",
              "      <th>0</th>\n",
              "      <td>BMW</td>\n",
              "      <td>1 Series M</td>\n",
              "      <td>2011</td>\n",
              "      <td>premium unleaded (required)</td>\n",
              "      <td>335.0</td>\n",
              "      <td>6.0</td>\n",
              "      <td>MANUAL</td>\n",
              "      <td>rear wheel drive</td>\n",
              "      <td>2.0</td>\n",
              "      <td>Factory Tuner,Luxury,High-Performance</td>\n",
              "      <td>Compact</td>\n",
              "      <td>Coupe</td>\n",
              "      <td>26</td>\n",
              "      <td>19</td>\n",
              "      <td>3916</td>\n",
              "      <td>46135</td>\n",
              "    </tr>\n",
              "    <tr>\n",
              "      <th>1</th>\n",
              "      <td>BMW</td>\n",
              "      <td>1 Series</td>\n",
              "      <td>2011</td>\n",
              "      <td>premium unleaded (required)</td>\n",
              "      <td>300.0</td>\n",
              "      <td>6.0</td>\n",
              "      <td>MANUAL</td>\n",
              "      <td>rear wheel drive</td>\n",
              "      <td>2.0</td>\n",
              "      <td>Luxury,Performance</td>\n",
              "      <td>Compact</td>\n",
              "      <td>Convertible</td>\n",
              "      <td>28</td>\n",
              "      <td>19</td>\n",
              "      <td>3916</td>\n",
              "      <td>40650</td>\n",
              "    </tr>\n",
              "    <tr>\n",
              "      <th>2</th>\n",
              "      <td>BMW</td>\n",
              "      <td>1 Series</td>\n",
              "      <td>2011</td>\n",
              "      <td>premium unleaded (required)</td>\n",
              "      <td>300.0</td>\n",
              "      <td>6.0</td>\n",
              "      <td>MANUAL</td>\n",
              "      <td>rear wheel drive</td>\n",
              "      <td>2.0</td>\n",
              "      <td>Luxury,High-Performance</td>\n",
              "      <td>Compact</td>\n",
              "      <td>Coupe</td>\n",
              "      <td>28</td>\n",
              "      <td>20</td>\n",
              "      <td>3916</td>\n",
              "      <td>36350</td>\n",
              "    </tr>\n",
              "    <tr>\n",
              "      <th>3</th>\n",
              "      <td>BMW</td>\n",
              "      <td>1 Series</td>\n",
              "      <td>2011</td>\n",
              "      <td>premium unleaded (required)</td>\n",
              "      <td>230.0</td>\n",
              "      <td>6.0</td>\n",
              "      <td>MANUAL</td>\n",
              "      <td>rear wheel drive</td>\n",
              "      <td>2.0</td>\n",
              "      <td>Luxury,Performance</td>\n",
              "      <td>Compact</td>\n",
              "      <td>Coupe</td>\n",
              "      <td>28</td>\n",
              "      <td>18</td>\n",
              "      <td>3916</td>\n",
              "      <td>29450</td>\n",
              "    </tr>\n",
              "    <tr>\n",
              "      <th>4</th>\n",
              "      <td>BMW</td>\n",
              "      <td>1 Series</td>\n",
              "      <td>2011</td>\n",
              "      <td>premium unleaded (required)</td>\n",
              "      <td>230.0</td>\n",
              "      <td>6.0</td>\n",
              "      <td>MANUAL</td>\n",
              "      <td>rear wheel drive</td>\n",
              "      <td>2.0</td>\n",
              "      <td>Luxury</td>\n",
              "      <td>Compact</td>\n",
              "      <td>Convertible</td>\n",
              "      <td>28</td>\n",
              "      <td>18</td>\n",
              "      <td>3916</td>\n",
              "      <td>34500</td>\n",
              "    </tr>\n",
              "  </tbody>\n",
              "</table>\n",
              "</div>"
            ],
            "text/plain": [
              "  Make       Model  Year             Engine Fuel Type  Engine HP  \\\n",
              "0  BMW  1 Series M  2011  premium unleaded (required)      335.0   \n",
              "1  BMW    1 Series  2011  premium unleaded (required)      300.0   \n",
              "2  BMW    1 Series  2011  premium unleaded (required)      300.0   \n",
              "3  BMW    1 Series  2011  premium unleaded (required)      230.0   \n",
              "4  BMW    1 Series  2011  premium unleaded (required)      230.0   \n",
              "\n",
              "   Engine Cylinders Transmission Type     Driven_Wheels  Number of Doors  \\\n",
              "0               6.0            MANUAL  rear wheel drive              2.0   \n",
              "1               6.0            MANUAL  rear wheel drive              2.0   \n",
              "2               6.0            MANUAL  rear wheel drive              2.0   \n",
              "3               6.0            MANUAL  rear wheel drive              2.0   \n",
              "4               6.0            MANUAL  rear wheel drive              2.0   \n",
              "\n",
              "                         Market Category Vehicle Size Vehicle Style  \\\n",
              "0  Factory Tuner,Luxury,High-Performance      Compact         Coupe   \n",
              "1                     Luxury,Performance      Compact   Convertible   \n",
              "2                Luxury,High-Performance      Compact         Coupe   \n",
              "3                     Luxury,Performance      Compact         Coupe   \n",
              "4                                 Luxury      Compact   Convertible   \n",
              "\n",
              "   highway MPG  city mpg  Popularity   MSRP  \n",
              "0           26        19        3916  46135  \n",
              "1           28        19        3916  40650  \n",
              "2           28        20        3916  36350  \n",
              "3           28        18        3916  29450  \n",
              "4           28        18        3916  34500  "
            ]
          },
          "execution_count": 5,
          "metadata": {},
          "output_type": "execute_result"
        }
      ],
      "source": [
        "data.head(5)"
      ]
    },
    {
      "cell_type": "code",
      "execution_count": 6,
      "metadata": {},
      "outputs": [
        {
          "data": {
            "text/html": [
              "<div>\n",
              "<style scoped>\n",
              "    .dataframe tbody tr th:only-of-type {\n",
              "        vertical-align: middle;\n",
              "    }\n",
              "\n",
              "    .dataframe tbody tr th {\n",
              "        vertical-align: top;\n",
              "    }\n",
              "\n",
              "    .dataframe thead th {\n",
              "        text-align: right;\n",
              "    }\n",
              "</style>\n",
              "<table border=\"1\" class=\"dataframe\">\n",
              "  <thead>\n",
              "    <tr style=\"text-align: right;\">\n",
              "      <th></th>\n",
              "      <th>Make</th>\n",
              "      <th>Model</th>\n",
              "      <th>Year</th>\n",
              "      <th>Engine HP</th>\n",
              "      <th>Engine Cylinders</th>\n",
              "      <th>Transmission Type</th>\n",
              "      <th>Vehicle Style</th>\n",
              "      <th>highway MPG</th>\n",
              "      <th>city mpg</th>\n",
              "      <th>MSRP</th>\n",
              "    </tr>\n",
              "  </thead>\n",
              "  <tbody>\n",
              "    <tr>\n",
              "      <th>0</th>\n",
              "      <td>BMW</td>\n",
              "      <td>1 Series M</td>\n",
              "      <td>2011</td>\n",
              "      <td>335.0</td>\n",
              "      <td>6.0</td>\n",
              "      <td>MANUAL</td>\n",
              "      <td>Coupe</td>\n",
              "      <td>26</td>\n",
              "      <td>19</td>\n",
              "      <td>46135</td>\n",
              "    </tr>\n",
              "    <tr>\n",
              "      <th>1</th>\n",
              "      <td>BMW</td>\n",
              "      <td>1 Series</td>\n",
              "      <td>2011</td>\n",
              "      <td>300.0</td>\n",
              "      <td>6.0</td>\n",
              "      <td>MANUAL</td>\n",
              "      <td>Convertible</td>\n",
              "      <td>28</td>\n",
              "      <td>19</td>\n",
              "      <td>40650</td>\n",
              "    </tr>\n",
              "    <tr>\n",
              "      <th>2</th>\n",
              "      <td>BMW</td>\n",
              "      <td>1 Series</td>\n",
              "      <td>2011</td>\n",
              "      <td>300.0</td>\n",
              "      <td>6.0</td>\n",
              "      <td>MANUAL</td>\n",
              "      <td>Coupe</td>\n",
              "      <td>28</td>\n",
              "      <td>20</td>\n",
              "      <td>36350</td>\n",
              "    </tr>\n",
              "    <tr>\n",
              "      <th>3</th>\n",
              "      <td>BMW</td>\n",
              "      <td>1 Series</td>\n",
              "      <td>2011</td>\n",
              "      <td>230.0</td>\n",
              "      <td>6.0</td>\n",
              "      <td>MANUAL</td>\n",
              "      <td>Coupe</td>\n",
              "      <td>28</td>\n",
              "      <td>18</td>\n",
              "      <td>29450</td>\n",
              "    </tr>\n",
              "    <tr>\n",
              "      <th>4</th>\n",
              "      <td>BMW</td>\n",
              "      <td>1 Series</td>\n",
              "      <td>2011</td>\n",
              "      <td>230.0</td>\n",
              "      <td>6.0</td>\n",
              "      <td>MANUAL</td>\n",
              "      <td>Convertible</td>\n",
              "      <td>28</td>\n",
              "      <td>18</td>\n",
              "      <td>34500</td>\n",
              "    </tr>\n",
              "  </tbody>\n",
              "</table>\n",
              "</div>"
            ],
            "text/plain": [
              "  Make       Model  Year  Engine HP  Engine Cylinders Transmission Type  \\\n",
              "0  BMW  1 Series M  2011      335.0               6.0            MANUAL   \n",
              "1  BMW    1 Series  2011      300.0               6.0            MANUAL   \n",
              "2  BMW    1 Series  2011      300.0               6.0            MANUAL   \n",
              "3  BMW    1 Series  2011      230.0               6.0            MANUAL   \n",
              "4  BMW    1 Series  2011      230.0               6.0            MANUAL   \n",
              "\n",
              "  Vehicle Style  highway MPG  city mpg   MSRP  \n",
              "0         Coupe           26        19  46135  \n",
              "1   Convertible           28        19  40650  \n",
              "2         Coupe           28        20  36350  \n",
              "3         Coupe           28        18  29450  \n",
              "4   Convertible           28        18  34500  "
            ]
          },
          "execution_count": 6,
          "metadata": {},
          "output_type": "execute_result"
        }
      ],
      "source": [
        "cols = ['Make',\n",
        "        'Model',\n",
        "        'Year',\n",
        "        'Engine HP',\n",
        "        'Engine Cylinders',\n",
        "        'Transmission Type',\n",
        "        'Vehicle Style',\n",
        "        'highway MPG',\n",
        "        'city mpg',\n",
        "        'MSRP']\n",
        "data = data[cols]\n",
        "data.head(5)"
      ]
    },
    {
      "cell_type": "code",
      "execution_count": 10,
      "metadata": {},
      "outputs": [
        {
          "data": {
            "text/plain": [
              "Index(['make', 'model', 'year', 'engine_hp', 'engine_cylinders',\n",
              "       'transmission_type', 'vehicle_style', 'highway_mpg', 'city_mpg',\n",
              "       'price'],\n",
              "      dtype='object')"
            ]
          },
          "execution_count": 10,
          "metadata": {},
          "output_type": "execute_result"
        }
      ],
      "source": [
        "# renaming columns\n",
        "data.columns = data.columns.str.replace(' ', '_').str.lower()\n",
        "data = data.rename(columns={'msrp': 'price'})\n",
        "data.columns"
      ]
    },
    {
      "cell_type": "code",
      "execution_count": 11,
      "metadata": {},
      "outputs": [
        {
          "data": {
            "text/plain": [
              "make                  0\n",
              "model                 0\n",
              "year                  0\n",
              "engine_hp            69\n",
              "engine_cylinders     30\n",
              "transmission_type     0\n",
              "vehicle_style         0\n",
              "highway_mpg           0\n",
              "city_mpg              0\n",
              "price                 0\n",
              "dtype: int64"
            ]
          },
          "execution_count": 11,
          "metadata": {},
          "output_type": "execute_result"
        }
      ],
      "source": [
        "# missing values\n",
        "data.isnull().sum()"
      ]
    },
    {
      "cell_type": "code",
      "execution_count": 12,
      "metadata": {
        "id": "69tSECi6HzlS"
      },
      "outputs": [],
      "source": [
        "# fill missing values with 0\n",
        "data.fillna(0, inplace=True)"
      ]
    },
    {
      "cell_type": "markdown",
      "metadata": {
        "id": "g3Xwa_AJx-AF"
      },
      "source": [
        "### Question 1"
      ]
    },
    {
      "cell_type": "code",
      "execution_count": 16,
      "metadata": {
        "colab": {
          "base_uri": "https://localhost:8080/",
          "height": 175
        },
        "id": "KVJGwsquxpw1",
        "outputId": "8bd5d2a6-1011-4296-ed26-56c2ae02d84c"
      },
      "outputs": [
        {
          "data": {
            "text/html": [
              "<div>\n",
              "<style scoped>\n",
              "    .dataframe tbody tr th:only-of-type {\n",
              "        vertical-align: middle;\n",
              "    }\n",
              "\n",
              "    .dataframe tbody tr th {\n",
              "        vertical-align: top;\n",
              "    }\n",
              "\n",
              "    .dataframe thead th {\n",
              "        text-align: right;\n",
              "    }\n",
              "</style>\n",
              "<table border=\"1\" class=\"dataframe\">\n",
              "  <thead>\n",
              "    <tr style=\"text-align: right;\">\n",
              "      <th></th>\n",
              "      <th>make</th>\n",
              "      <th>model</th>\n",
              "      <th>transmission_type</th>\n",
              "      <th>vehicle_style</th>\n",
              "    </tr>\n",
              "  </thead>\n",
              "  <tbody>\n",
              "    <tr>\n",
              "      <th>count</th>\n",
              "      <td>11914</td>\n",
              "      <td>11914</td>\n",
              "      <td>11914</td>\n",
              "      <td>11914</td>\n",
              "    </tr>\n",
              "    <tr>\n",
              "      <th>unique</th>\n",
              "      <td>48</td>\n",
              "      <td>915</td>\n",
              "      <td>5</td>\n",
              "      <td>16</td>\n",
              "    </tr>\n",
              "    <tr>\n",
              "      <th>top</th>\n",
              "      <td>Chevrolet</td>\n",
              "      <td>Silverado 1500</td>\n",
              "      <td>AUTOMATIC</td>\n",
              "      <td>Sedan</td>\n",
              "    </tr>\n",
              "    <tr>\n",
              "      <th>freq</th>\n",
              "      <td>1123</td>\n",
              "      <td>156</td>\n",
              "      <td>8266</td>\n",
              "      <td>3048</td>\n",
              "    </tr>\n",
              "  </tbody>\n",
              "</table>\n",
              "</div>"
            ],
            "text/plain": [
              "             make           model transmission_type vehicle_style\n",
              "count       11914           11914             11914         11914\n",
              "unique         48             915                 5            16\n",
              "top     Chevrolet  Silverado 1500         AUTOMATIC         Sedan\n",
              "freq         1123             156              8266          3048"
            ]
          },
          "execution_count": 16,
          "metadata": {},
          "output_type": "execute_result"
        }
      ],
      "source": [
        "data.describe(include=[\"O\"])"
      ]
    },
    {
      "cell_type": "code",
      "execution_count": 13,
      "metadata": {
        "colab": {
          "base_uri": "https://localhost:8080/"
        },
        "id": "85IK6VLXJADT",
        "outputId": "0fe17171-1cb8-4a8e-f9d3-6178eca529e5"
      },
      "outputs": [
        {
          "data": {
            "text/plain": [
              "0    AUTOMATIC\n",
              "Name: transmission_type, dtype: object"
            ]
          },
          "execution_count": 13,
          "metadata": {},
          "output_type": "execute_result"
        }
      ],
      "source": [
        "data['transmission_type'].mode()"
      ]
    },
    {
      "cell_type": "markdown",
      "metadata": {},
      "source": [
        "### Question 2"
      ]
    },
    {
      "cell_type": "code",
      "execution_count": 18,
      "metadata": {
        "colab": {
          "base_uri": "https://localhost:8080/",
          "height": 300
        },
        "id": "fSX3EYwHyW_V",
        "outputId": "d0268b72-88ab-4ce7-9f69-eb8a8b8b2df3"
      },
      "outputs": [
        {
          "data": {
            "text/html": [
              "<div>\n",
              "<style scoped>\n",
              "    .dataframe tbody tr th:only-of-type {\n",
              "        vertical-align: middle;\n",
              "    }\n",
              "\n",
              "    .dataframe tbody tr th {\n",
              "        vertical-align: top;\n",
              "    }\n",
              "\n",
              "    .dataframe thead th {\n",
              "        text-align: right;\n",
              "    }\n",
              "</style>\n",
              "<table border=\"1\" class=\"dataframe\">\n",
              "  <thead>\n",
              "    <tr style=\"text-align: right;\">\n",
              "      <th></th>\n",
              "      <th>year</th>\n",
              "      <th>engine_hp</th>\n",
              "      <th>engine_cylinders</th>\n",
              "      <th>highway_mpg</th>\n",
              "      <th>city_mpg</th>\n",
              "      <th>price</th>\n",
              "    </tr>\n",
              "  </thead>\n",
              "  <tbody>\n",
              "    <tr>\n",
              "      <th>count</th>\n",
              "      <td>11914.000000</td>\n",
              "      <td>11914.000000</td>\n",
              "      <td>11914.000000</td>\n",
              "      <td>11914.000000</td>\n",
              "      <td>11914.000000</td>\n",
              "      <td>1.191400e+04</td>\n",
              "    </tr>\n",
              "    <tr>\n",
              "      <th>mean</th>\n",
              "      <td>2010.384338</td>\n",
              "      <td>247.941749</td>\n",
              "      <td>5.614655</td>\n",
              "      <td>26.637485</td>\n",
              "      <td>19.733255</td>\n",
              "      <td>4.059474e+04</td>\n",
              "    </tr>\n",
              "    <tr>\n",
              "      <th>std</th>\n",
              "      <td>7.579740</td>\n",
              "      <td>110.507669</td>\n",
              "      <td>1.800554</td>\n",
              "      <td>8.863001</td>\n",
              "      <td>8.987798</td>\n",
              "      <td>6.010910e+04</td>\n",
              "    </tr>\n",
              "    <tr>\n",
              "      <th>min</th>\n",
              "      <td>1990.000000</td>\n",
              "      <td>0.000000</td>\n",
              "      <td>0.000000</td>\n",
              "      <td>12.000000</td>\n",
              "      <td>7.000000</td>\n",
              "      <td>2.000000e+03</td>\n",
              "    </tr>\n",
              "    <tr>\n",
              "      <th>25%</th>\n",
              "      <td>2007.000000</td>\n",
              "      <td>170.000000</td>\n",
              "      <td>4.000000</td>\n",
              "      <td>22.000000</td>\n",
              "      <td>16.000000</td>\n",
              "      <td>2.100000e+04</td>\n",
              "    </tr>\n",
              "    <tr>\n",
              "      <th>50%</th>\n",
              "      <td>2015.000000</td>\n",
              "      <td>225.000000</td>\n",
              "      <td>6.000000</td>\n",
              "      <td>26.000000</td>\n",
              "      <td>18.000000</td>\n",
              "      <td>2.999500e+04</td>\n",
              "    </tr>\n",
              "    <tr>\n",
              "      <th>75%</th>\n",
              "      <td>2016.000000</td>\n",
              "      <td>300.000000</td>\n",
              "      <td>6.000000</td>\n",
              "      <td>30.000000</td>\n",
              "      <td>22.000000</td>\n",
              "      <td>4.223125e+04</td>\n",
              "    </tr>\n",
              "    <tr>\n",
              "      <th>max</th>\n",
              "      <td>2017.000000</td>\n",
              "      <td>1001.000000</td>\n",
              "      <td>16.000000</td>\n",
              "      <td>354.000000</td>\n",
              "      <td>137.000000</td>\n",
              "      <td>2.065902e+06</td>\n",
              "    </tr>\n",
              "  </tbody>\n",
              "</table>\n",
              "</div>"
            ],
            "text/plain": [
              "               year     engine_hp  engine_cylinders   highway_mpg  \\\n",
              "count  11914.000000  11914.000000      11914.000000  11914.000000   \n",
              "mean    2010.384338    247.941749          5.614655     26.637485   \n",
              "std        7.579740    110.507669          1.800554      8.863001   \n",
              "min     1990.000000      0.000000          0.000000     12.000000   \n",
              "25%     2007.000000    170.000000          4.000000     22.000000   \n",
              "50%     2015.000000    225.000000          6.000000     26.000000   \n",
              "75%     2016.000000    300.000000          6.000000     30.000000   \n",
              "max     2017.000000   1001.000000         16.000000    354.000000   \n",
              "\n",
              "           city_mpg         price  \n",
              "count  11914.000000  1.191400e+04  \n",
              "mean      19.733255  4.059474e+04  \n",
              "std        8.987798  6.010910e+04  \n",
              "min        7.000000  2.000000e+03  \n",
              "25%       16.000000  2.100000e+04  \n",
              "50%       18.000000  2.999500e+04  \n",
              "75%       22.000000  4.223125e+04  \n",
              "max      137.000000  2.065902e+06  "
            ]
          },
          "execution_count": 18,
          "metadata": {},
          "output_type": "execute_result"
        }
      ],
      "source": [
        "# numerical features only\n",
        "data_numeric = data.copy()\n",
        "data_numeric = data.drop([\"make\", \"model\", \"transmission_type\", \"vehicle_style\"], axis=1)\n",
        "data_numeric.describe()"
      ]
    },
    {
      "cell_type": "code",
      "execution_count": 19,
      "metadata": {
        "colab": {
          "base_uri": "https://localhost:8080/",
          "height": 394
        },
        "id": "ciTJmhFavFtq",
        "outputId": "2c264f6d-5ecc-46af-e226-5b9810e3e967"
      },
      "outputs": [
        {
          "data": {
            "text/html": [
              "<div>\n",
              "<style scoped>\n",
              "    .dataframe tbody tr th:only-of-type {\n",
              "        vertical-align: middle;\n",
              "    }\n",
              "\n",
              "    .dataframe tbody tr th {\n",
              "        vertical-align: top;\n",
              "    }\n",
              "\n",
              "    .dataframe thead th {\n",
              "        text-align: right;\n",
              "    }\n",
              "</style>\n",
              "<table border=\"1\" class=\"dataframe\">\n",
              "  <thead>\n",
              "    <tr style=\"text-align: right;\">\n",
              "      <th></th>\n",
              "      <th>year</th>\n",
              "      <th>engine_hp</th>\n",
              "      <th>engine_cylinders</th>\n",
              "      <th>highway_mpg</th>\n",
              "      <th>city_mpg</th>\n",
              "      <th>price</th>\n",
              "    </tr>\n",
              "  </thead>\n",
              "  <tbody>\n",
              "    <tr>\n",
              "      <th>year</th>\n",
              "      <td>1.000000</td>\n",
              "      <td>0.338714</td>\n",
              "      <td>-0.040708</td>\n",
              "      <td>0.258240</td>\n",
              "      <td>0.198171</td>\n",
              "      <td>0.227590</td>\n",
              "    </tr>\n",
              "    <tr>\n",
              "      <th>engine_hp</th>\n",
              "      <td>0.338714</td>\n",
              "      <td>1.000000</td>\n",
              "      <td>0.774851</td>\n",
              "      <td>-0.415707</td>\n",
              "      <td>-0.424918</td>\n",
              "      <td>0.650095</td>\n",
              "    </tr>\n",
              "    <tr>\n",
              "      <th>engine_cylinders</th>\n",
              "      <td>-0.040708</td>\n",
              "      <td>0.774851</td>\n",
              "      <td>1.000000</td>\n",
              "      <td>-0.614541</td>\n",
              "      <td>-0.587306</td>\n",
              "      <td>0.526274</td>\n",
              "    </tr>\n",
              "    <tr>\n",
              "      <th>highway_mpg</th>\n",
              "      <td>0.258240</td>\n",
              "      <td>-0.415707</td>\n",
              "      <td>-0.614541</td>\n",
              "      <td>1.000000</td>\n",
              "      <td>0.886829</td>\n",
              "      <td>-0.160043</td>\n",
              "    </tr>\n",
              "    <tr>\n",
              "      <th>city_mpg</th>\n",
              "      <td>0.198171</td>\n",
              "      <td>-0.424918</td>\n",
              "      <td>-0.587306</td>\n",
              "      <td>0.886829</td>\n",
              "      <td>1.000000</td>\n",
              "      <td>-0.157676</td>\n",
              "    </tr>\n",
              "    <tr>\n",
              "      <th>price</th>\n",
              "      <td>0.227590</td>\n",
              "      <td>0.650095</td>\n",
              "      <td>0.526274</td>\n",
              "      <td>-0.160043</td>\n",
              "      <td>-0.157676</td>\n",
              "      <td>1.000000</td>\n",
              "    </tr>\n",
              "  </tbody>\n",
              "</table>\n",
              "</div>"
            ],
            "text/plain": [
              "                      year  engine_hp  engine_cylinders  highway_mpg  \\\n",
              "year              1.000000   0.338714         -0.040708     0.258240   \n",
              "engine_hp         0.338714   1.000000          0.774851    -0.415707   \n",
              "engine_cylinders -0.040708   0.774851          1.000000    -0.614541   \n",
              "highway_mpg       0.258240  -0.415707         -0.614541     1.000000   \n",
              "city_mpg          0.198171  -0.424918         -0.587306     0.886829   \n",
              "price             0.227590   0.650095          0.526274    -0.160043   \n",
              "\n",
              "                  city_mpg     price  \n",
              "year              0.198171  0.227590  \n",
              "engine_hp        -0.424918  0.650095  \n",
              "engine_cylinders -0.587306  0.526274  \n",
              "highway_mpg       0.886829 -0.160043  \n",
              "city_mpg          1.000000 -0.157676  \n",
              "price            -0.157676  1.000000  "
            ]
          },
          "execution_count": 19,
          "metadata": {},
          "output_type": "execute_result"
        }
      ],
      "source": [
        "data_numeric.corr()"
      ]
    },
    {
      "cell_type": "code",
      "execution_count": 20,
      "metadata": {
        "colab": {
          "base_uri": "https://localhost:8080/",
          "height": 729
        },
        "id": "4d_aB6MlvqT6",
        "outputId": "ef081b67-47f1-47a4-e54d-db8e642d811d"
      },
      "outputs": [
        {
          "data": {
            "image/png": "[encoded data removed]",
            "text/plain": [
              "<Figure size 1080x720 with 2 Axes>"
            ]
          },
          "metadata": {
            "needs_background": "light"
          },
          "output_type": "display_data"
        }
      ],
      "source": [
        "# heatmap\n",
        "plt.figure(figsize=(15,10))  \n",
        "sns.heatmap(data_numeric.corr(),annot=True,linewidths=.5, cmap=\"Blues\")\n",
        "plt.title('Heatmap showing correlations between numerical data')\n",
        "plt.show()"
      ]
    },
    {
      "cell_type": "code",
      "execution_count": 21,
      "metadata": {
        "id": "2GJHYKU50ODl"
      },
      "outputs": [],
      "source": [
        "# making price binary\n",
        "data_class = data.copy()\n",
        "mean = data_class['price'].mean()\n",
        "\n",
        "data_class['above_average'] = np.where(data_class['price']>=mean,1,0)"
      ]
    },
    {
      "cell_type": "code",
      "execution_count": 22,
      "metadata": {
        "id": "Sh0FsNIS06ym"
      },
      "outputs": [],
      "source": [
        "# dropping price column\n",
        "data_class = data_class.drop('price', axis=1)"
      ]
    },
    {
      "cell_type": "code",
      "execution_count": 23,
      "metadata": {
        "id": "6RYfeKmp1PfL"
      },
      "outputs": [],
      "source": [
        "# splitting the dataset\n",
        "df_train_full, df_test = train_test_split(data_class, test_size=0.2, random_state=42)\n",
        "df_train, df_val = train_test_split(df_train_full, test_size=0.25, random_state=42)"
      ]
    },
    {
      "cell_type": "code",
      "execution_count": 24,
      "metadata": {
        "id": "UgWT9jAa1Zjr"
      },
      "outputs": [],
      "source": [
        "# dropping index\n",
        "df_train = df_train.reset_index(drop=True)\n",
        "df_val = df_val.reset_index(drop=True)\n",
        "df_test = df_test.reset_index(drop=True)"
      ]
    },
    {
      "cell_type": "code",
      "execution_count": 25,
      "metadata": {
        "id": "ZBGzHdVD1f_B"
      },
      "outputs": [],
      "source": [
        "y_train = df_train.above_average.values\n",
        "y_val = df_val.above_average.values\n",
        "y_test = df_test.above_average.values"
      ]
    },
    {
      "cell_type": "markdown",
      "metadata": {
        "id": "QAieBTSC06zL"
      },
      "source": [
        "### Question 3"
      ]
    },
    {
      "cell_type": "code",
      "execution_count": 26,
      "metadata": {
        "colab": {
          "base_uri": "https://localhost:8080/",
          "height": 81
        },
        "id": "GrWi3uy40gLg",
        "outputId": "fe098f56-03d4-435f-eea7-a58588868fc0"
      },
      "outputs": [
        {
          "data": {
            "text/html": [
              "<div>\n",
              "<style scoped>\n",
              "    .dataframe tbody tr th:only-of-type {\n",
              "        vertical-align: middle;\n",
              "    }\n",
              "\n",
              "    .dataframe tbody tr th {\n",
              "        vertical-align: top;\n",
              "    }\n",
              "\n",
              "    .dataframe thead th {\n",
              "        text-align: right;\n",
              "    }\n",
              "</style>\n",
              "<table border=\"1\" class=\"dataframe\">\n",
              "  <thead>\n",
              "    <tr style=\"text-align: right;\">\n",
              "      <th></th>\n",
              "      <th>MI</th>\n",
              "    </tr>\n",
              "  </thead>\n",
              "  <tbody>\n",
              "    <tr>\n",
              "      <th>model</th>\n",
              "      <td>0.462344</td>\n",
              "    </tr>\n",
              "    <tr>\n",
              "      <th>make</th>\n",
              "      <td>0.239769</td>\n",
              "    </tr>\n",
              "    <tr>\n",
              "      <th>vehicle_style</th>\n",
              "      <td>0.084143</td>\n",
              "    </tr>\n",
              "    <tr>\n",
              "      <th>transmission_type</th>\n",
              "      <td>0.020958</td>\n",
              "    </tr>\n",
              "  </tbody>\n",
              "</table>\n",
              "</div>"
            ],
            "text/plain": [
              "                         MI\n",
              "model              0.462344\n",
              "make               0.239769\n",
              "vehicle_style      0.084143\n",
              "transmission_type  0.020958"
            ]
          },
          "execution_count": 26,
          "metadata": {},
          "output_type": "execute_result"
        }
      ],
      "source": [
        "# calculating the mutual information\n",
        "cat = [\"make\", \"model\", \"transmission_type\", \"vehicle_style\"]\n",
        "\n",
        "def calculate_mi(series):\n",
        "    return mutual_info_score(series, df_train.above_average)\n",
        "\n",
        "df_mi = df_train[cat].apply(calculate_mi)\n",
        "df_mi = df_mi.sort_values(ascending=False).to_frame(name='MI')\n",
        "df_mi"
      ]
    },
    {
      "cell_type": "markdown",
      "metadata": {
        "id": "MxFu2alh1R4Y"
      },
      "source": [
        "### Question 4"
      ]
    },
    {
      "cell_type": "code",
      "execution_count": null,
      "metadata": {},
      "outputs": [],
      "source": [
        "# dropping y\n",
        "df_train = df_train.drop('above_average', axis=1)\n",
        "df_val = df_val.drop('above_average', axis=1)\n",
        "df_test = df_test.drop('above_average', axis=1)"
      ]
    },
    {
      "cell_type": "code",
      "execution_count": 28,
      "metadata": {},
      "outputs": [
        {
          "data": {
            "text/html": [
              "<div>\n",
              "<style scoped>\n",
              "    .dataframe tbody tr th:only-of-type {\n",
              "        vertical-align: middle;\n",
              "    }\n",
              "\n",
              "    .dataframe tbody tr th {\n",
              "        vertical-align: top;\n",
              "    }\n",
              "\n",
              "    .dataframe thead th {\n",
              "        text-align: right;\n",
              "    }\n",
              "</style>\n",
              "<table border=\"1\" class=\"dataframe\">\n",
              "  <thead>\n",
              "    <tr style=\"text-align: right;\">\n",
              "      <th></th>\n",
              "      <th>make</th>\n",
              "      <th>model</th>\n",
              "      <th>year</th>\n",
              "      <th>engine_hp</th>\n",
              "      <th>engine_cylinders</th>\n",
              "      <th>transmission_type</th>\n",
              "      <th>vehicle_style</th>\n",
              "      <th>highway_mpg</th>\n",
              "      <th>city_mpg</th>\n",
              "    </tr>\n",
              "  </thead>\n",
              "  <tbody>\n",
              "    <tr>\n",
              "      <th>0</th>\n",
              "      <td>Mitsubishi</td>\n",
              "      <td>Endeavor</td>\n",
              "      <td>2011</td>\n",
              "      <td>225.0</td>\n",
              "      <td>6.0</td>\n",
              "      <td>AUTOMATIC</td>\n",
              "      <td>4dr SUV</td>\n",
              "      <td>19</td>\n",
              "      <td>15</td>\n",
              "    </tr>\n",
              "    <tr>\n",
              "      <th>1</th>\n",
              "      <td>Kia</td>\n",
              "      <td>Borrego</td>\n",
              "      <td>2009</td>\n",
              "      <td>276.0</td>\n",
              "      <td>6.0</td>\n",
              "      <td>AUTOMATIC</td>\n",
              "      <td>4dr SUV</td>\n",
              "      <td>21</td>\n",
              "      <td>17</td>\n",
              "    </tr>\n",
              "    <tr>\n",
              "      <th>2</th>\n",
              "      <td>Lamborghini</td>\n",
              "      <td>Gallardo</td>\n",
              "      <td>2012</td>\n",
              "      <td>570.0</td>\n",
              "      <td>10.0</td>\n",
              "      <td>MANUAL</td>\n",
              "      <td>Convertible</td>\n",
              "      <td>20</td>\n",
              "      <td>12</td>\n",
              "    </tr>\n",
              "    <tr>\n",
              "      <th>3</th>\n",
              "      <td>Chevrolet</td>\n",
              "      <td>Colorado</td>\n",
              "      <td>2016</td>\n",
              "      <td>200.0</td>\n",
              "      <td>4.0</td>\n",
              "      <td>AUTOMATIC</td>\n",
              "      <td>Crew Cab Pickup</td>\n",
              "      <td>27</td>\n",
              "      <td>20</td>\n",
              "    </tr>\n",
              "    <tr>\n",
              "      <th>4</th>\n",
              "      <td>Pontiac</td>\n",
              "      <td>Vibe</td>\n",
              "      <td>2009</td>\n",
              "      <td>158.0</td>\n",
              "      <td>4.0</td>\n",
              "      <td>AUTOMATIC</td>\n",
              "      <td>4dr Hatchback</td>\n",
              "      <td>26</td>\n",
              "      <td>20</td>\n",
              "    </tr>\n",
              "  </tbody>\n",
              "</table>\n",
              "</div>"
            ],
            "text/plain": [
              "          make     model  year  engine_hp  engine_cylinders transmission_type  \\\n",
              "0   Mitsubishi  Endeavor  2011      225.0               6.0         AUTOMATIC   \n",
              "1          Kia   Borrego  2009      276.0               6.0         AUTOMATIC   \n",
              "2  Lamborghini  Gallardo  2012      570.0              10.0            MANUAL   \n",
              "3    Chevrolet  Colorado  2016      200.0               4.0         AUTOMATIC   \n",
              "4      Pontiac      Vibe  2009      158.0               4.0         AUTOMATIC   \n",
              "\n",
              "     vehicle_style  highway_mpg  city_mpg  \n",
              "0          4dr SUV           19        15  \n",
              "1          4dr SUV           21        17  \n",
              "2      Convertible           20        12  \n",
              "3  Crew Cab Pickup           27        20  \n",
              "4    4dr Hatchback           26        20  "
            ]
          },
          "execution_count": 28,
          "metadata": {},
          "output_type": "execute_result"
        }
      ],
      "source": [
        "df_train.head()"
      ]
    },
    {
      "cell_type": "code",
      "execution_count": 29,
      "metadata": {
        "id": "VjZYolWL1PCq"
      },
      "outputs": [],
      "source": [
        "# transforming the dataset\n",
        "num = [\"year\", \"engine_hp\", \"engine_cylinders\", \"highway_mpg\", \"city_mpg\"]\n",
        "train_dict = df_train[cat + num].to_dict(orient='records')\n",
        "\n",
        "# vectorising the dataset\n",
        "dv = DictVectorizer(sparse=False)\n",
        "dv.fit(train_dict)\n",
        "X_train = dv.transform(train_dict)"
      ]
    },
    {
      "cell_type": "code",
      "execution_count": 30,
      "metadata": {
        "colab": {
          "base_uri": "https://localhost:8080/"
        },
        "id": "he_Rn01H1b8-",
        "outputId": "629e13b6-6890-4f64-c83b-bd16de56fd9c"
      },
      "outputs": [
        {
          "name": "stdout",
          "output_type": "stream",
          "text": [
            "0.95\n"
          ]
        }
      ],
      "source": [
        "# training LR\n",
        "model = LogisticRegression(solver=\"liblinear\", C=10, max_iter=1000, random_state=42)\n",
        "model.fit(X_train, y_train)\n",
        "\n",
        "# estimating on val dataset\n",
        "val_dict = df_val[cat + num].to_dict(orient='records')\n",
        "X_val = dv.transform(val_dict)\n",
        "y_pred = model.predict(X_val)\n",
        "\n",
        "accuracy = np.round(accuracy_score(y_val, y_pred),2)\n",
        "print(accuracy)"
      ]
    },
    {
      "cell_type": "markdown",
      "metadata": {},
      "source": [
        "### Question 5"
      ]
    },
    {
      "cell_type": "code",
      "execution_count": 31,
      "metadata": {
        "colab": {
          "base_uri": "https://localhost:8080/"
        },
        "id": "tNyfZPwr6uGb",
        "outputId": "77994134-6ea6-46fd-8fbc-53e7d5890b9c"
      },
      "outputs": [
        {
          "data": {
            "text/plain": [
              "['make',\n",
              " 'model',\n",
              " 'transmission_type',\n",
              " 'vehicle_style',\n",
              " 'year',\n",
              " 'engine_hp',\n",
              " 'engine_cylinders',\n",
              " 'highway_mpg',\n",
              " 'city_mpg']"
            ]
          },
          "execution_count": 31,
          "metadata": {},
          "output_type": "execute_result"
        }
      ],
      "source": [
        "features = cat + num\n",
        "features"
      ]
    },
    {
      "cell_type": "code",
      "execution_count": 32,
      "metadata": {
        "colab": {
          "base_uri": "https://localhost:8080/"
        },
        "id": "L11XM_pmGIgI",
        "outputId": "84ce3f55-072f-4492-cf83-ac5885b14e0e"
      },
      "outputs": [
        {
          "name": "stdout",
          "output_type": "stream",
          "text": [
            "make 0.0007763323541754019 0.9492236676458246\n",
            "model 0.025954678976080503 0.9240453210239195\n",
            "transmission_type 0.004972723457826178 0.9450272765421738\n",
            "vehicle_style 0.007490558120016755 0.9425094418799832\n",
            "year 0.0020352496852705793 0.9479647503147294\n",
            "engine_hp 0.019660092320604283 0.9303399076793957\n",
            "engine_cylinders 0.0028745279060008455 0.9471254720939991\n",
            "highway_mpg 0.005812001678556444 0.9441879983214435\n",
            "city_mpg 0.004133445237096023 0.9458665547629039\n"
          ]
        }
      ],
      "source": [
        "# feature elimination\n",
        "orig_score = accuracy\n",
        "\n",
        "for c in features:\n",
        "    subset = features.copy()\n",
        "    subset.remove(c)\n",
        "    \n",
        "    train_dict = df_train[subset].to_dict(orient='records')\n",
        "\n",
        "    dv = DictVectorizer(sparse=False)\n",
        "    dv.fit(train_dict)\n",
        "\n",
        "    X_train = dv.transform(train_dict)\n",
        "\n",
        "    model = LogisticRegression(solver='liblinear', C=10, max_iter=1000, random_state=42)\n",
        "    model.fit(X_train, y_train)\n",
        "\n",
        "    val_dict = df_val[subset].to_dict(orient='records')\n",
        "    X_val = dv.transform(val_dict)\n",
        "\n",
        "    y_pred = model.predict(X_val)\n",
        "\n",
        "    score = accuracy_score(y_val, y_pred)\n",
        "    print(c, orig_score - score, score)"
      ]
    },
    {
      "cell_type": "markdown",
      "metadata": {},
      "source": [
        "### Question 6"
      ]
    },
    {
      "cell_type": "code",
      "execution_count": 34,
      "metadata": {
        "id": "r6wFxYueWcco"
      },
      "outputs": [],
      "source": [
        "# logarithmic transformation\n",
        "data['price']=np.log1p(data['price'])"
      ]
    },
    {
      "cell_type": "code",
      "execution_count": 35,
      "metadata": {
        "id": "gyftDcMvWrou"
      },
      "outputs": [],
      "source": [
        "# preparing the dataset\n",
        "df_train_full, df_test = train_test_split(data, test_size=0.2, random_state=42)\n",
        "df_train, df_val = train_test_split(df_train_full, test_size=0.25, random_state=42)\n",
        "\n",
        "df_train = df_train.reset_index(drop=True)\n",
        "df_val = df_val.reset_index(drop=True)\n",
        "df_test = df_test.reset_index(drop=True)\n",
        "\n",
        "y_train = df_train.price.values\n",
        "y_val = df_val.price.values\n",
        "y_test = df_test.price.values\n",
        "\n",
        "del df_train['price']\n",
        "del df_val['price']\n",
        "del df_test['price']"
      ]
    },
    {
      "cell_type": "code",
      "execution_count": 36,
      "metadata": {
        "id": "XbIYll6mW3HW"
      },
      "outputs": [],
      "source": [
        "# vectorising the dataset\n",
        "train_dict = df_train[cat + num].to_dict(orient='records')\n",
        "\n",
        "dv = DictVectorizer(sparse=False)\n",
        "dv.fit(train_dict)\n",
        "\n",
        "X_train = dv.transform(train_dict)\n",
        "\n",
        "val_dict = df_val[cat + num].to_dict(orient='records')\n",
        "X_val = dv.transform(val_dict)"
      ]
    },
    {
      "cell_type": "code",
      "execution_count": 37,
      "metadata": {
        "colab": {
          "base_uri": "https://localhost:8080/"
        },
        "id": "rqMpeRa9XXYA",
        "outputId": "50348620-f291-4056-c921-0c38b31b84f4"
      },
      "outputs": [
        {
          "name": "stdout",
          "output_type": "stream",
          "text": [
            "0 0.494\n",
            "0.01 0.494\n",
            "0.1 0.494\n",
            "1 0.494\n",
            "10 0.494\n"
          ]
        }
      ],
      "source": [
        "# ridge regression\n",
        "for a in [0, 0.01, 0.1, 1, 10]:\n",
        "    model = Ridge(alpha=a, solver=\"sag\", random_state=42)\n",
        "    model.fit(X_train, y_train)\n",
        "    \n",
        "    y_pred = model.predict(X_val)\n",
        "    \n",
        "    score = np.sqrt(mean_squared_error(y_val, y_pred))\n",
        "    \n",
        "    print(a, round(score, 3))"
      ]
    }
  ],
  "metadata": {
    "colab": {
      "provenance": []
    },
    "kernelspec": {
      "display_name": "Python 3.8.13 ('chatbot')",
      "language": "python",
      "name": "python3"
    },
    "language_info": {
      "codemirror_mode": {
        "name": "ipython",
        "version": 3
      },
      "file_extension": ".py",
      "mimetype": "text/x-python",
      "name": "python",
      "nbconvert_exporter": "python",
      "pygments_lexer": "ipython3",
      "version": "3.9.12"
    },
    "vscode": {
      "interpreter": {
        "hash": "4cbf2951cde2f569b578b1df868513fa15c696ba1c73b34f313a3fcf610bb9ca"
      }
    }
  },
  "nbformat": 4,
  "nbformat_minor": 0
}
